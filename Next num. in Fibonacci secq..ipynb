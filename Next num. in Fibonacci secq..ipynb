{
 "cells": [
  {
   "cell_type": "code",
   "execution_count": 3,
   "id": "cd4b03a7",
   "metadata": {},
   "outputs": [
    {
     "name": "stdout",
     "output_type": "stream",
     "text": [
      "Enter the number of Fibonacci sequence you want to generate: 7\n",
      "The next number in the Fibonacci sequence is 3\n"
     ]
    }
   ],
   "source": [
    "num1 = 0\n",
    "num2 = 1\n",
    "\n",
    "n = int(input(\"Enter the number of Fibonacci sequence you want to generate: \"))\n",
    "\n",
    "for i in range(2, n+1):\n",
    "    next_num = (num1 + num2) % 10\n",
    "    num1 = num2\n",
    "    num2 = next_num\n",
    "\n",
    "print(\"The next number in the Fibonacci sequence is\", next_num)"
   ]
  },
  {
   "cell_type": "code",
   "execution_count": null,
   "id": "f6d049cb",
   "metadata": {},
   "outputs": [],
   "source": []
  }
 ],
 "metadata": {
  "kernelspec": {
   "display_name": "Python 3 (ipykernel)",
   "language": "python",
   "name": "python3"
  },
  "language_info": {
   "codemirror_mode": {
    "name": "ipython",
    "version": 3
   },
   "file_extension": ".py",
   "mimetype": "text/x-python",
   "name": "python",
   "nbconvert_exporter": "python",
   "pygments_lexer": "ipython3",
   "version": "3.9.13"
  }
 },
 "nbformat": 4,
 "nbformat_minor": 5
}
